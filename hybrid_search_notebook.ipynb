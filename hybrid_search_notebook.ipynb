{
 "cells": [
  {
   "cell_type": "code",
   "execution_count": null,
   "metadata": {},
   "outputs": [],
   "source": [
    "import numpy as np\n",
    "import lancedb\n",
    "import umap\n",
    "import plotly.express as px\n",
    "import pyarrow as pa \n",
    "import pandas as pd\n",
    "from langchain.embeddings import HuggingFaceEmbeddings"
   ]
  },
  {
   "cell_type": "code",
   "execution_count": null,
   "metadata": {},
   "outputs": [],
   "source": [
    "model_name = 'MODEL_PATH' \n",
    "embedding = HuggingFaceEmbeddings(model_name=model_name)"
   ]
  },
  {
   "cell_type": "code",
   "execution_count": null,
   "metadata": {},
   "outputs": [],
   "source": [
    "data = pd.read_csv('DATA_PATH')\n",
    "data"
   ]
  },
  {
   "cell_type": "code",
   "execution_count": null,
   "metadata": {},
   "outputs": [],
   "source": [
    "def embed(text):\n",
    "    return embedding.embed_query(text)\n",
    "\n",
    "# Add a vector column to the DataFrame\n",
    "data['vector'] = data['Sentence'].apply(embed)\n",
    "\n",
    "# Convert the DataFrame to a PyArrow Table\n",
    "table = pa.Table.from_pandas(data)\n",
    "\n",
    "# Connect to LanceDB and create the table\n",
    "db = lancedb.connect(\"./lancedb\")\n",
    "lance_table = db.create_table(\n",
    "    \"my_table\",\n",
    "    data=table,\n",
    "    mode=\"overwrite\"\n",
    ")"
   ]
  },
  {
   "cell_type": "code",
   "execution_count": null,
   "metadata": {},
   "outputs": [],
   "source": [
    "df = lance_table.to_pandas()"
   ]
  },
  {
   "cell_type": "code",
   "execution_count": null,
   "metadata": {},
   "outputs": [],
   "source": [
    "# Convert the list of vectors into a NumPy array\n",
    "vectors = np.array(df['vector'].tolist())\n",
    "\n",
    "# Perform UMAP dimensionality reduction to 3 dimensions\n",
    "reducer = umap.UMAP(n_components=3, random_state=42)\n",
    "umap_embeddings = reducer.fit_transform(vectors)\n",
    "\n",
    "# Create a DataFrame for the UMAP results\n",
    "umap_df = pd.DataFrame(umap_embeddings, columns=['x', 'y', 'z'])\n",
    "umap_df['text'] = df['Topic']\n",
    "\n",
    "# Plotting using Plotly\n",
    "fig = px.scatter_3d(\n",
    "    umap_df, \n",
    "    x='x', \n",
    "    y='y', \n",
    "    z='z',\n",
    "    text='text', \n",
    "    hover_name='text', \n",
    "    color='text', \n",
    "    color_continuous_scale='Plasma')\n",
    "\n",
    "# Adjusting point size and making them semi-transparent\n",
    "fig.update_traces(hoverinfo='text', marker=dict(size=3, opacity=0.5))\n",
    "\n",
    "# Setting the figure size to be square\n",
    "fig.update_layout(width=1600, height=1000)\n",
    "fig.show()"
   ]
  },
  {
   "cell_type": "code",
   "execution_count": null,
   "metadata": {},
   "outputs": [],
   "source": [
    "result = lance_table.search(embedding.embed_query('Gaming')).limit(100)"
   ]
  },
  {
   "cell_type": "code",
   "execution_count": null,
   "metadata": {},
   "outputs": [],
   "source": [
    "query_df = result.to_pandas()"
   ]
  },
  {
   "cell_type": "code",
   "execution_count": null,
   "metadata": {},
   "outputs": [],
   "source": [
    "len(query_df)"
   ]
  },
  {
   "cell_type": "code",
   "execution_count": null,
   "metadata": {},
   "outputs": [],
   "source": [
    "query_df.head()"
   ]
  },
  {
   "cell_type": "code",
   "execution_count": null,
   "metadata": {},
   "outputs": [],
   "source": [
    "min_size, max_size = 0.1, 20\n",
    "# query_df['normalized_size'] = min_size + (query_df['_distance'] - query_df['_distance'].min()) / (query_df['_distance'].max() - query_df['_distance'].min()) * (max_size - min_size)\n",
    "query_df['normalized_size'] = 1/(query_df['_distance'] - query_df['_distance'].min()) / (query_df['_distance'].max() - query_df['_distance'].min())\n"
   ]
  },
  {
   "cell_type": "code",
   "execution_count": null,
   "metadata": {},
   "outputs": [],
   "source": [
    "# Convert the list of vectors into a NumPy array\n",
    "vectors = np.array(query_df['vector'].tolist())\n",
    "\n",
    "# Perform UMAP dimensionality reduction to 3 dimensions\n",
    "reducer = umap.UMAP(n_components=3, random_state=42)\n",
    "umap_embeddings = reducer.fit_transform(vectors)\n",
    "\n",
    "# Create a DataFrame for the UMAP results\n",
    "umap_df = pd.DataFrame(umap_embeddings, columns=['x', 'y', 'z'])\n",
    "umap_df['text'] = query_df['Topic']  # Replace 'df' with your DataFrame\n",
    "umap_df['size'] = query_df['normalized_size']  # Add the normalized size column\n",
    "umap_df['_distance'] = query_df['_distance']\n",
    "\n",
    "# Plotting using Plotly\n",
    "fig = px.scatter_3d(\n",
    "    umap_df,\n",
    "    x='x',\n",
    "    y='y',\n",
    "    z='z',\n",
    "    text='text',\n",
    "    color='text',\n",
    "    size='size',  # Set the size of points based on the normalized float column\n",
    "    color_continuous_scale='Plasma',\n",
    "    hover_data = ['text', '_distance']\n",
    ")\n",
    "\n",
    "# Customizing hover information\n",
    "fig.update_traces(marker=dict(opacity=0.5))\n",
    "\n",
    "# Setting the figure size to be square\n",
    "fig.update_layout(width=1600, height=1000)\n",
    "\n",
    "fig.show()"
   ]
  },
  {
   "cell_type": "code",
   "execution_count": null,
   "metadata": {},
   "outputs": [],
   "source": []
  }
 ],
 "metadata": {
  "kernelspec": {
   "display_name": "Python 3.10.13 ('hybrid_search')",
   "language": "python",
   "name": "python3"
  },
  "language_info": {
   "codemirror_mode": {
    "name": "ipython",
    "version": 3
   },
   "file_extension": ".py",
   "mimetype": "text/x-python",
   "name": "python",
   "nbconvert_exporter": "python",
   "pygments_lexer": "ipython3",
   "version": "3.10.13"
  },
  "orig_nbformat": 4,
  "vscode": {
   "interpreter": {
    "hash": "5e19e1fdf98abf6d4cc00244e1c8705b911db9521d9feec7a2cc08d2ea356f75"
   }
  }
 },
 "nbformat": 4,
 "nbformat_minor": 2
}
